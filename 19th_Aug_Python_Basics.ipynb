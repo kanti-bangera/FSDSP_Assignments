{
 "cells": [
  {
   "cell_type": "code",
   "execution_count": 1,
   "id": "e882974f-75d2-479e-ab34-f71503fc89f7",
   "metadata": {},
   "outputs": [
    {
     "name": "stdout",
     "output_type": "stream",
     "text": [
      "x= 7\n",
      "y= 6\n"
     ]
    }
   ],
   "source": [
    "#1. Declare two variables, `x` and `y`, and assign them integer values. Swap the\n",
    "#values of these variables without using any temporary variable.\n",
    "x=6\n",
    "y=7\n",
    "x,y=y,x\n",
    "print(\"x=\",x)\n",
    "print(\"y=\",y)"
   ]
  },
  {
   "cell_type": "code",
   "execution_count": 4,
   "id": "93e43acd-24bc-4080-8e81-fe835c9121b5",
   "metadata": {},
   "outputs": [
    {
     "name": "stdin",
     "output_type": "stream",
     "text": [
      "Enter the length 23\n",
      "Enter the width 45\n"
     ]
    },
    {
     "name": "stdout",
     "output_type": "stream",
     "text": [
      "The are of the rectangle is :1035.0\n"
     ]
    }
   ],
   "source": [
    "# 2. Create a program that calculates the area of a rectangle. Take the length and\n",
    "# width as inputs from the user and store them in variables. Calculate and\n",
    "# display the area.\n",
    "length=float(input(\"Enter the length\"))\n",
    "width=float(input(\"Enter the width\"))\n",
    "area=length*width\n",
    "print(f\"The area of the rectangle is :{area}\")"
   ]
  },
  {
   "cell_type": "code",
   "execution_count": null,
   "id": "48525eae-d241-481c-a533-dcef5578c0b1",
   "metadata": {},
   "outputs": [],
   "source": [
    "# 3. Write a Python program that converts temperatures from Celsius to\n",
    "# Fahrenheit. Take the temperature in Celsius as input, store it in a variable,\n",
    "# convert it to Fahrenheit, and display the result.\n",
    "cels=float(input(\"enter the temperature in celsius\"))\n",
    "far=(cels*(9/5))+32\n",
    "print(f\"{cels} C = {far} F\")\n"
   ]
  },
  {
   "cell_type": "code",
   "execution_count": 1,
   "id": "a69f95e0-6e69-49ca-ad8d-54ca192c24db",
   "metadata": {},
   "outputs": [
    {
     "name": "stdin",
     "output_type": "stream",
     "text": [
      "Enter a string fqtqteywy\n"
     ]
    },
    {
     "name": "stdout",
     "output_type": "stream",
     "text": [
      "The length of the string fqtqteywy is = 9\n"
     ]
    }
   ],
   "source": [
    "''' 1. Write a Python program that takes a string as input and prints the length of\n",
    "the string.'''\n",
    "\n",
    "str1=input(\"Enter a string\")\n",
    "length=len(str1)\n",
    "print(f\"The length of the string {str1} is = {length}\")\n",
    "\n"
   ]
  },
  {
   "cell_type": "code",
   "execution_count": 5,
   "id": "435e7e4c-4c09-484f-bc49-ee2400af581f",
   "metadata": {},
   "outputs": [
    {
     "name": "stdin",
     "output_type": "stream",
     "text": [
      "Enter a string neem\n"
     ]
    },
    {
     "name": "stdout",
     "output_type": "stream",
     "text": [
      "The reverse of neem is meen\n",
      "The given string is not a palindrome\n"
     ]
    }
   ],
   "source": [
    "# 3. Given a string, reverse the order of characters using string slicing and print\n",
    "# the reversed string.\n",
    "str2=input(\"Enter a string\")\n",
    "revstrg=str2[::-1]\n",
    "print(f\"The reverse of {str2} is {revstrg}\")\n",
    "# 4.Write a program that takes a string as input and checks if it is a palindrome\n",
    "# (reads the same forwards and backwards).\n",
    "if str2==revstrg:\n",
    "    print(\"The given string is palindrome\")\n",
    "else:\n",
    "     print(\"The given string is not a palindrome\")\n",
    "    \n"
   ]
  },
  {
   "cell_type": "code",
   "execution_count": 8,
   "id": "847334ba-cf2f-4328-bb21-6507057ddc77",
   "metadata": {},
   "outputs": [
    {
     "name": "stdin",
     "output_type": "stream",
     "text": [
      "Enter a string:     hello\n"
     ]
    },
    {
     "name": "stdout",
     "output_type": "stream",
     "text": [
      "The modified string is:    hello\n"
     ]
    }
   ],
   "source": [
    "# 5. Create a program that takes a string as input and removes all the spaces from\n",
    "# it. Print the modified string without spaces.\n",
    "\n",
    "str3=input(\"Enter a string:\")\n",
    "newstr3=str3.strip()\n",
    "print(f\"The modified string is:{newstr3}\")"
   ]
  },
  {
   "cell_type": "code",
   "execution_count": null,
   "id": "bd4250fd-6200-456d-a196-b2bb47f8762f",
   "metadata": {},
   "outputs": [],
   "source": []
  }
 ],
 "metadata": {
  "kernelspec": {
   "display_name": "Python 3 (ipykernel)",
   "language": "python",
   "name": "python3"
  },
  "language_info": {
   "codemirror_mode": {
    "name": "ipython",
    "version": 3
   },
   "file_extension": ".py",
   "mimetype": "text/x-python",
   "name": "python",
   "nbconvert_exporter": "python",
   "pygments_lexer": "ipython3",
   "version": "3.10.8"
  }
 },
 "nbformat": 4,
 "nbformat_minor": 5
}
